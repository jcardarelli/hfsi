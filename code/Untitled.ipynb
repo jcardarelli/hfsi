{
 "cells": [
  {
   "cell_type": "code",
   "execution_count": null,
   "id": "3e4abeb2",
   "metadata": {},
   "outputs": [],
   "source": [
    "from striprtf.striprtf import rtf_to_text\n",
    "\n",
    "with open(\"your_file.rtf\", \"r\") as f:\n",
    "    rtf_text = f.read()\n",
    "    plain_text = rtf_to_text(rtf_text)\n",
    "\n",
    "print(plain_text)"
   ]
  }
 ],
 "metadata": {
  "kernelspec": {
   "display_name": "Python 3 (ipykernel)",
   "language": "python",
   "name": "python3"
  },
  "language_info": {
   "codemirror_mode": {
    "name": "ipython",
    "version": 3
   },
   "file_extension": ".py",
   "mimetype": "text/x-python",
   "name": "python",
   "nbconvert_exporter": "python",
   "pygments_lexer": "ipython3",
   "version": "3.11.7"
  }
 },
 "nbformat": 4,
 "nbformat_minor": 5
}
